{
  "nbformat": 4,
  "nbformat_minor": 0,
  "metadata": {
    "colab": {
      "provenance": []
    },
    "kernelspec": {
      "name": "python3",
      "display_name": "Python 3"
    },
    "language_info": {
      "name": "python"
    }
  },
  "cells": [
    {
      "cell_type": "code",
      "execution_count": 6,
      "metadata": {
        "colab": {
          "base_uri": "https://localhost:8080/"
        },
        "id": "ujyyGvWGe7KW",
        "outputId": "edcd43f9-b90c-49f5-b9b9-c78a27163917"
      },
      "outputs": [
        {
          "output_type": "stream",
          "name": "stdout",
          "text": [
            "Room is dirty. Cleaning the room..\n",
            "Action taken by the agent: Clean\n",
            "Room is clean, Doing nothing\n",
            "Action taken by the agent: Do nothing\n"
          ]
        }
      ],
      "source": [
        "class Multi_Reflex_Agent:\n",
        "  def __init__(self):\n",
        "    self.actions = [\"Clean\", \"Do nothing\"]\n",
        "    self.internal_state = \"unkown\"\n",
        "\n",
        "  def perceive(self, environment):\n",
        "    if environment['status'] == \"Dirty\":\n",
        "      self.internal_state = \"Dirty\"\n",
        "    else:\n",
        "      self.internal_state = \"Clean\"\n",
        "\n",
        "  def act(self):\n",
        "    if self.internal_state == \"Dirty\":\n",
        "      print(\"Room is dirty. Cleaning the room..\")\n",
        "      self.internal_state = 'Clean'\n",
        "      return self.actions[0]\n",
        "    else:\n",
        "      print(\"Room is clean, Doing nothing\")\n",
        "      return self.actions[1]\n",
        "\n",
        "enviornment = {'status': 'Dirty'}\n",
        "agent = Multi_Reflex_Agent()\n",
        "agent.perceive(enviornment)\n",
        "action = agent.act()\n",
        "print(f\"Action taken by the agent: {action}\")\n",
        "enviornment['status'] = 'Clean'\n",
        "agent.perceive(enviornment)\n",
        "action = agent.act()\n",
        "print(f\"Action taken by the agent: {action}\")"
      ]
    },
    {
      "cell_type": "code",
      "source": [],
      "metadata": {
        "id": "FWhBJ395l7q6"
      },
      "execution_count": null,
      "outputs": []
    }
  ]
}